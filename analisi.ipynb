{
 "cells": [
  {
   "attachments": {},
   "cell_type": "markdown",
   "metadata": {},
   "source": [
    "### Llibreta per proves i informació\n",
    "\n",
    "En aquesta llibreta dividirem el codi en parts per poder fer poder realitzar proves en cada part"
   ]
  },
  {
   "cell_type": "code",
   "execution_count": 3,
   "metadata": {},
   "outputs": [],
   "source": [
    "import os\n",
    "\n",
    "import matplotlib.pyplot as plt\n",
    "import torch\n",
    "import torch.nn as nn\n",
    "import torch.nn.functional as F\n",
    "import torch.optim as optim\n",
    "\n",
    "from sklearn.metrics import confusion_matrix\n",
    "import seaborn as sns\n",
    "\n",
    "from GenreFeatureData import (\n",
    "    GenreFeatureData,\n",
    ")  # local python class with Audio feature extraction (librosa"
   ]
  },
  {
   "attachments": {},
   "cell_type": "markdown",
   "metadata": {},
   "source": [
    "Hauriem de fer una visualització de les dades"
   ]
  },
  {
   "cell_type": "code",
   "execution_count": 8,
   "metadata": {},
   "outputs": [
    {
     "name": "stdout",
     "output_type": "stream",
     "text": [
      "Preprocessed files exist, deserializing npy files\n",
      "Training X shape: (1260, 128, 33)\n",
      "Training Y shape: (1260, 8)\n",
      "Validation X shape: (120, 128, 33)\n",
      "Validation Y shape: (120, 8)\n",
      "Test X shape: (60, 128, 33)\n",
      "Test Y shape: (60, 8)\n"
     ]
    }
   ],
   "source": [
    "genre_features = GenreFeatureData()\n",
    "genre_features.augmentar=True\n",
    "# if all of the preprocessed files do not exist, regenerate them all for self-consistency\n",
    "if (\n",
    "        os.path.isfile(genre_features.train_X_preprocessed_data)\n",
    "        and os.path.isfile(genre_features.train_Y_preprocessed_data)\n",
    "        and os.path.isfile(genre_features.dev_X_preprocessed_data)\n",
    "        and os.path.isfile(genre_features.dev_Y_preprocessed_data)\n",
    "        and os.path.isfile(genre_features.test_X_preprocessed_data)\n",
    "        and os.path.isfile(genre_features.test_Y_preprocessed_data)\n",
    "):\n",
    "    print(\"Preprocessed files exist, deserializing npy files\")\n",
    "    genre_features.load_deserialize_data()\n",
    "else:\n",
    "    print(\"Preprocessing raw audio files\")\n",
    "    genre_features.load_preprocess_data()\n",
    "\n",
    "train_X = torch.from_numpy(genre_features.train_X).type(torch.Tensor)\n",
    "dev_X = torch.from_numpy(genre_features.dev_X).type(torch.Tensor)\n",
    "test_X = torch.from_numpy(genre_features.test_X).type(torch.Tensor)\n",
    "\n",
    "# Targets is a long tensor of size (N,) which tells the true class of the sample.\n",
    "train_Y = torch.from_numpy(genre_features.train_Y).type(torch.LongTensor)\n",
    "dev_Y = torch.from_numpy(genre_features.dev_Y).type(torch.LongTensor)\n",
    "test_Y = torch.from_numpy(genre_features.test_Y).type(torch.LongTensor)\n",
    "\n",
    "# Convert {training, test} torch.Tensors\n",
    "print(\"Training X shape: \" + str(genre_features.train_X.shape))\n",
    "print(\"Training Y shape: \" + str(genre_features.train_Y.shape))\n",
    "print(\"Validation X shape: \" + str(genre_features.dev_X.shape))\n",
    "print(\"Validation Y shape: \" + str(genre_features.dev_Y.shape))\n",
    "print(\"Test X shape: \" + str(genre_features.test_X.shape))\n",
    "print(\"Test Y shape: \" + str(genre_features.test_Y.shape))\n"
   ]
  },
  {
   "cell_type": "code",
   "execution_count": null,
   "metadata": {},
   "outputs": [],
   "source": []
  }
 ],
 "metadata": {
  "kernelspec": {
   "display_name": "m_gen",
   "language": "python",
   "name": "python3"
  },
  "language_info": {
   "codemirror_mode": {
    "name": "ipython",
    "version": 3
   },
   "file_extension": ".py",
   "mimetype": "text/x-python",
   "name": "python",
   "nbconvert_exporter": "python",
   "pygments_lexer": "ipython3",
   "version": "3.10.6"
  },
  "orig_nbformat": 4
 },
 "nbformat": 4,
 "nbformat_minor": 2
}
